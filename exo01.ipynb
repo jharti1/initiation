{
  "nbformat": 4,
  "nbformat_minor": 0,
  "metadata": {
    "colab": {
      "name": "exo01.ipynb",
      "provenance": [],
      "authorship_tag": "ABX9TyOrO+iJ6zs6FBbFQTtG+x0q",
      "include_colab_link": true
    },
    "kernelspec": {
      "name": "python3",
      "display_name": "Python 3"
    },
    "language_info": {
      "name": "python"
    }
  },
  "cells": [
    {
      "cell_type": "markdown",
      "metadata": {
        "id": "view-in-github",
        "colab_type": "text"
      },
      "source": [
        "<a href=\"https://colab.research.google.com/github/jharti1/initiation/blob/main/exo01.ipynb\" target=\"_parent\"><img src=\"https://colab.research.google.com/assets/colab-badge.svg\" alt=\"Open In Colab\"/></a>"
      ]
    },
    {
      "cell_type": "markdown",
      "source": [
        "# Déclarez une variable\n",
        "\n",
        "###1. Exécutez la case suivante qui déclare les variables :\n",
        "\n",
        "    compteEpargne correspondant au montant sur le compte épargne\n",
        "    taux le taux d'intérêt pour l'année considérée\n"
      ],
      "metadata": {
        "id": "WVxniHpa9FKn"
      }
    },
    {
      "cell_type": "code",
      "source": [
        "compteEpargne = 10000\n",
        "taux = 0.75"
      ],
      "metadata": {
        "id": "ev4s9iW-Ey_I"
      },
      "execution_count": 2,
      "outputs": []
    },
    {
      "cell_type": "markdown",
      "source": [
        "Créez une variable interets, qui correspond au montant sur le compte épargne multiplié par le taux d'intérêt (qui lui même doit être divisé par 100, car les taux sont exprimés en pourcentage) :"
      ],
      "metadata": {
        "id": "JQF83OjHFDW-"
      }
    },
    {
      "cell_type": "code",
      "source": [
        "interets = (compteEpargne*taux)/100"
      ],
      "metadata": {
        "id": "9XLhPFCeFcB3"
      },
      "execution_count": 3,
      "outputs": []
    },
    {
      "cell_type": "markdown",
      "source": [
        "Afficher le résultat : "
      ],
      "metadata": {
        "id": "MjR1ldVuF5ZB"
      }
    },
    {
      "cell_type": "code",
      "source": [
        "print(\"Le solde de votre compte était de\", compteEpargne, \"€\\nIl vous a rapporté\", interets, \"€ cette année\")"
      ],
      "metadata": {
        "colab": {
          "base_uri": "https://localhost:8080/"
        },
        "id": "-aP6celRGCm9",
        "outputId": "df8a7b54-a452-41e8-c3c5-2b4d1dcdfb5a"
      },
      "execution_count": 4,
      "outputs": [
        {
          "output_type": "stream",
          "name": "stdout",
          "text": [
            "Le solde de votre compte était de 10000 €\n",
            "Il vous a rapporté 75.0 € cette année\n"
          ]
        }
      ]
    },
    {
      "cell_type": "markdown",
      "source": [
        "###2. Exécutez le code suivant :\n",
        "\n",
        "\n",
        "    Exécutez le code suivant pour afficher la valeur de nos économies\n",
        "    Modifiez la ligne economies = economies + 500 en dessous du # A FAIRE en   commentaire, en utilisant l'opérateur simplifié +=\n",
        "    Exécutez le code à nouveau pour voir le résultat du calcul\n",
        "\n",
        "\n",
        "1.   Afficher la valeur de nos économies\n",
        "2.   Modifiez la ligne economies = economies + 500 en dessous du # A FAIRE en   commentaire, en utilisant l'opérateur simplifié +=\n",
        "\n",
        "\n",
        "\n",
        "\n",
        "\n",
        "\n",
        "\n",
        "\n",
        "\n",
        "\n",
        "\n",
        "\n",
        "\n",
        "\n",
        "\n",
        "\n"
      ],
      "metadata": {
        "id": "aVpdpzexHVro"
      }
    },
    {
      "cell_type": "code",
      "source": [
        "compte = 200\n",
        "economies = 3000\n",
        "    \n",
        "# A FAIRE: modifiez la ligne suivante avec l'opérateur simplifié +=\n",
        "economies = economies + 500\n",
        "\n",
        "print(\"Vos économies sont de: \", economies)"
      ],
      "metadata": {
        "colab": {
          "base_uri": "https://localhost:8080/"
        },
        "id": "NXDPS1T0JWpg",
        "outputId": "e935ed8e-77fd-462e-b525-bdc18ff9700a"
      },
      "execution_count": 6,
      "outputs": [
        {
          "output_type": "stream",
          "name": "stdout",
          "text": [
            "Vos économies sont de:  3500\n"
          ]
        }
      ]
    },
    {
      "cell_type": "code",
      "source": [
        "compte = 200\n",
        "economies = 3000\n",
        "    \n",
        "# A FAIRE: modifiez la ligne suivante avec l'opérateur simplifié +=\n",
        "economies +=500\n",
        "\n",
        "print(\"Vos économies sont de: \", economies)"
      ],
      "metadata": {
        "colab": {
          "base_uri": "https://localhost:8080/"
        },
        "id": "W5gDyMheJhIZ",
        "outputId": "6528a3f0-9b2d-4cda-9d19-c0171b496c7a"
      },
      "execution_count": 7,
      "outputs": [
        {
          "output_type": "stream",
          "name": "stdout",
          "text": [
            "Vos économies sont de:  3500\n"
          ]
        }
      ]
    },
    {
      "cell_type": "markdown",
      "source": [
        "#Manipulez les types de variables"
      ],
      "metadata": {
        "id": "bhGHYdffQPSf"
      }
    },
    {
      "cell_type": "code",
      "source": [
        "A = 10\n",
        "B = 5\n",
        "c = A/B\n",
        "print(\"c=\",c ,\"de type\",type(c))"
      ],
      "metadata": {
        "colab": {
          "base_uri": "https://localhost:8080/"
        },
        "id": "N4mFwatkLug4",
        "outputId": "5aa667db-1534-4f19-b0af-68030de2dd59"
      },
      "execution_count": 8,
      "outputs": [
        {
          "output_type": "stream",
          "name": "stdout",
          "text": [
            "c= 2.0 de type <class 'float'>\n"
          ]
        }
      ]
    },
    {
      "cell_type": "code",
      "source": [
        "a=int(10)\n",
        "b=5\n",
        "c=a/b\n",
        "print(\"c=\",c ,\"de type\",type(c))\n"
      ],
      "metadata": {
        "colab": {
          "base_uri": "https://localhost:8080/"
        },
        "id": "8Xu_jDRTMirc",
        "outputId": "2223c06d-2a9c-40f4-8d4a-cc85d36fb354"
      },
      "execution_count": 9,
      "outputs": [
        {
          "output_type": "stream",
          "name": "stdout",
          "text": [
            "c= 2.0 de type <class 'float'>\n"
          ]
        }
      ]
    },
    {
      "cell_type": "code",
      "source": [
        "a=int(13.5)\n",
        "b=int(2)\n",
        "c=a/b\n",
        "print(\"c=\",c ,\"de type\",type(c))\n",
        "c=int(c)\n",
        "print(\"c=\",c ,\"de type\",type(c))"
      ],
      "metadata": {
        "colab": {
          "base_uri": "https://localhost:8080/"
        },
        "id": "lf2MSg7LNHA6",
        "outputId": "b3ebd32c-1e9d-4636-b756-b3d3b2060691"
      },
      "execution_count": 13,
      "outputs": [
        {
          "output_type": "stream",
          "name": "stdout",
          "text": [
            "c= 6.5 de type <class 'float'>\n",
            "c= 6 de type <class 'int'>\n"
          ]
        }
      ]
    },
    {
      "cell_type": "code",
      "source": [
        "villeFavoriteUne = \"Reims\"\n",
        "villeFavoriteDeux = \"Strasbourg\"\n",
        "favoris = villeFavoriteUne + villeFavoriteDeux\n",
        "print(favoris) # => \"ReimsStrasbourg\""
      ],
      "metadata": {
        "colab": {
          "base_uri": "https://localhost:8080/"
        },
        "id": "qY4jAbSJO9pZ",
        "outputId": "b16a6a01-ace4-4622-bb06-bc31f63dd986"
      },
      "execution_count": 14,
      "outputs": [
        {
          "output_type": "stream",
          "name": "stdout",
          "text": [
            "ReimsStrasbourg\n"
          ]
        }
      ]
    },
    {
      "cell_type": "code",
      "source": [
        "villeFavoriteUne = \"Reims\"\n",
        "villeFavoriteDeux = \"Strasbourg\"\n",
        "favoris = villeFavoriteUne + \"  \" + villeFavoriteDeux\n",
        "print(favoris) # => \"ReimsStrasbourg\""
      ],
      "metadata": {
        "colab": {
          "base_uri": "https://localhost:8080/"
        },
        "id": "t11Yy6V4PDd9",
        "outputId": "44d0a036-f544-4c1d-fb4c-0278ea8ac9e6"
      },
      "execution_count": 15,
      "outputs": [
        {
          "output_type": "stream",
          "name": "stdout",
          "text": [
            "Reims  Strasbourg\n"
          ]
        }
      ]
    },
    {
      "cell_type": "code",
      "source": [
        "compteEpargne = 10000\n",
        "taux = 0.75\n",
        "\n",
        "interets = compteEpargne * (taux/100)\n",
        "\n",
        "print(interets)"
      ],
      "metadata": {
        "colab": {
          "base_uri": "https://localhost:8080/"
        },
        "id": "KFuaZfg_Qf4y",
        "outputId": "7fb79c54-e0ab-4789-d6d1-c35f74c6c8f3"
      },
      "execution_count": 16,
      "outputs": [
        {
          "output_type": "stream",
          "name": "stdout",
          "text": [
            "75.0\n"
          ]
        }
      ]
    },
    {
      "cell_type": "markdown",
      "source": [
        "Transformer interets en variable de type entier"
      ],
      "metadata": {
        "id": "cyOcMylSSKl5"
      }
    },
    {
      "cell_type": "code",
      "source": [
        "compteEpargne = 10000\n",
        "taux = 0.75\n",
        "\n",
        "interets = compteEpargne * (taux/100)\n",
        "\n",
        "print(int(interets))  #caster la var"
      ],
      "metadata": {
        "colab": {
          "base_uri": "https://localhost:8080/"
        },
        "id": "rSuq3FXvSYpJ",
        "outputId": "62d663c2-9971-46ed-a54f-80f0ce0184dc"
      },
      "execution_count": 18,
      "outputs": [
        {
          "output_type": "stream",
          "name": "stdout",
          "text": [
            "75\n"
          ]
        }
      ]
    },
    {
      "cell_type": "code",
      "source": [
        "help(len)"
      ],
      "metadata": {
        "colab": {
          "base_uri": "https://localhost:8080/"
        },
        "id": "73_2M6ddZEr1",
        "outputId": "3daa3d3e-c605-43a4-b243-cfeadaf25f2e"
      },
      "execution_count": 19,
      "outputs": [
        {
          "output_type": "stream",
          "name": "stdout",
          "text": [
            "Help on built-in function len in module builtins:\n",
            "\n",
            "len(obj, /)\n",
            "    Return the number of items in a container.\n",
            "\n"
          ]
        }
      ]
    },
    {
      "cell_type": "code",
      "source": [
        "help(pow)"
      ],
      "metadata": {
        "colab": {
          "base_uri": "https://localhost:8080/"
        },
        "id": "TEISRsO1aQVh",
        "outputId": "de8781da-1601-4ce6-accf-e8154e608549"
      },
      "execution_count": 20,
      "outputs": [
        {
          "output_type": "stream",
          "name": "stdout",
          "text": [
            "Help on built-in function pow in module builtins:\n",
            "\n",
            "pow(x, y, z=None, /)\n",
            "    Equivalent to x**y (with two arguments) or x**y % z (with three arguments)\n",
            "    \n",
            "    Some types, such as ints, are able to use a more efficient algorithm when\n",
            "    invoked using the three argument form.\n",
            "\n"
          ]
        }
      ]
    },
    {
      "cell_type": "code",
      "source": [
        "a = \"poire\"\n",
        "print( len(a) )\n",
        "print(type(a))\n",
        "print( pow(4, 2))\n",
        "print(abs(-200)) "
      ],
      "metadata": {
        "colab": {
          "base_uri": "https://localhost:8080/"
        },
        "id": "R77Oxi9BbutN",
        "outputId": "559f504a-5676-49ba-d9c3-df92fa66cc5d"
      },
      "execution_count": 22,
      "outputs": [
        {
          "output_type": "stream",
          "name": "stdout",
          "text": [
            "5\n",
            "<class 'str'>\n",
            "16\n",
            "200\n"
          ]
        }
      ]
    },
    {
      "cell_type": "code",
      "source": [
        "def AfficherPerimetre() :\n",
        "  cote1 = 5\n",
        "  cote2 = 7\n",
        "  cote3 = 4\n",
        "  perimetre = cote1 + cote2 + cote3\n",
        "  print(perimetre)\n",
        "\n",
        "AfficherPerimetre()\n"
      ],
      "metadata": {
        "colab": {
          "base_uri": "https://localhost:8080/"
        },
        "id": "OH-IGvcMerzR",
        "outputId": "7c479023-79ce-4816-f37f-f0a6e659de12"
      },
      "execution_count": 23,
      "outputs": [
        {
          "output_type": "stream",
          "name": "stdout",
          "text": [
            "16\n"
          ]
        }
      ]
    },
    {
      "cell_type": "code",
      "source": [
        "def AfficherPerimetre(cote1,cote2,cote3):\n",
        "  perimetre = cote1 + cote2 + cote3\n",
        "  print(perimetre)\n",
        "\n",
        "AfficherPerimetre(10,5,5)\n",
        "help(AfficherPerimetre)\n"
      ],
      "metadata": {
        "colab": {
          "base_uri": "https://localhost:8080/"
        },
        "id": "caxEu2RogO2E",
        "outputId": "f8fbed79-b87d-4b03-c308-80419e310d1a"
      },
      "execution_count": 25,
      "outputs": [
        {
          "output_type": "stream",
          "name": "stdout",
          "text": [
            "20\n",
            "Help on function AfficherPerimetre in module __main__:\n",
            "\n",
            "AfficherPerimetre(cote1, cote2, cote3)\n",
            "\n"
          ]
        }
      ]
    },
    {
      "cell_type": "code",
      "source": [
        "def CalculerPerimetre(cote1,cote2,cote3):\n",
        "  perimetre = cote1 + cote2 + cote3\n",
        "  return perimetre \n",
        "print(\"perimetre1 : \",CalculerPerimetre(12,5,5),\"\\nperimetre2 : \",CalculerPerimetre(12,10,14))"
      ],
      "metadata": {
        "colab": {
          "base_uri": "https://localhost:8080/"
        },
        "id": "g29UQueEkn9S",
        "outputId": "1006f3e9-9e28-483b-813f-4711d58272ff"
      },
      "execution_count": 27,
      "outputs": [
        {
          "output_type": "stream",
          "name": "stdout",
          "text": [
            "perimetre1 :  22 \n",
            "perimetre2 :  36\n"
          ]
        }
      ]
    }
  ]
}